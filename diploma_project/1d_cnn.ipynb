{
 "cells": [
  {
   "cell_type": "code",
   "execution_count": 63,
   "metadata": {},
   "outputs": [],
   "source": [
    "import os\n",
    "import pandas as pd\n",
    "import numpy as np\n",
    "import matplotlib.pyplot as plt\n",
    "from sklearn.preprocessing import MinMaxScaler\n",
    "\n",
    "import torch\n",
    "import torch.nn as nn\n",
    "from torch.utils.data import Dataset, DataLoader\n",
    "\n",
    "from tqdm import tqdm\n",
    "from IPython.display import clear_output\n",
    "\n",
    "from Alpha import Alpha\n",
    "\n",
    "idx = pd.IndexSlice"
   ]
  },
  {
   "cell_type": "code",
   "execution_count": 44,
   "metadata": {},
   "outputs": [],
   "source": [
    "# EMPTY TICKERS OR TICKERS WITH GAP\n",
    "\n",
    "TICKERS_WITH_GAP = ['AAVEDOWN-USDT', 'BNBDOWN-USDT', 'DOTDOWN-USDT', 'DREP-USDT',\n",
    "       'ETHDOWN-USDT', 'LINKDOWN-USDT', 'LTCDOWN-USDT', 'LUNA-USDT',\n",
    "       'SUSHIDOWN-USDT', 'SXPDOWN-USDT', 'TRXDOWN-USDT', 'UNIDOWN-USDT',\n",
    "       'XLMDOWN-USDT', 'XTZDOWN-USDT', 'YFIDOWN-USDT']\n",
    "\n",
    "BLOCK_TICKERS = []\n",
    "\n",
    "close_df = pd.read_parquet(f\"binance/close.parquet\")\n",
    "yy = close_df.dropna(how='all', axis=1)\n",
    "BLOCK_TICKERS = list(set(close_df.columns).difference(set(yy.columns)))\n",
    "BLOCK_TICKERS.extend(TICKERS_WITH_GAP)"
   ]
  },
  {
   "cell_type": "code",
   "execution_count": 45,
   "metadata": {},
   "outputs": [],
   "source": [
    "def cut_outliers(x, show=False):\n",
    "\n",
    "    if show:\n",
    "        # данные до обработки\n",
    "        fig, (ax1, ax2) = plt.subplots(1, 2, figsize=(16, 4))\n",
    "        ax1.set_title('before formatting')\n",
    "        ax1.plot(x)\n",
    "\n",
    "    if cut_outliers:\n",
    "        lower_bound = np.quantile(x, 0.005)\n",
    "        upper_bound = np.quantile(x, 0.995)\n",
    "        x[x < lower_bound] = lower_bound\n",
    "        x[x > upper_bound] = upper_bound\n",
    "\n",
    "    if show:\n",
    "        # данные после обработки\n",
    "        ax2.set_title('after formatting')\n",
    "        ax2.plot(x)\n",
    "        plt.show()\n",
    "\n",
    "    return x"
   ]
  },
  {
   "cell_type": "code",
   "execution_count": null,
   "metadata": {},
   "outputs": [],
   "source": [
    "# READ DATA\n",
    "\n",
    "all_files = os.listdir(\"binance/\")\n",
    "\n",
    "dataset = pd.DataFrame()\n",
    "for filename in all_files:\n",
    "    filename = filename.split('.')[0]\n",
    "\n",
    "    # QUANTILE DATA\n",
    "\n",
    "    if (filename.startswith(\"bid\") or filename.startswith(\"ask\")) and (filename.endswith(\"size\") or filename.endswith(\"vwap\")):\n",
    "        dataset[filename.split('.')[0]] = (\n",
    "            pd.read_parquet(f\"binance/{filename}.parquet\")\n",
    "            .drop(BLOCK_TICKERS, axis=1)\n",
    "            .ffill()\n",
    "            .stack())\n",
    "        \n",
    "stationary_dataset = pd.DataFrame()\n",
    "for column_name in dataset.columns:\n",
    "\n",
    "    if column_name.startswith(\"bid\"):\n",
    "        quantile = column_name.split('_')[1]\n",
    "        suffix = column_name.split('_')[2]\n",
    "\n",
    "        stationary_dataset[f\"quantile_{quantile}_{suffix}\"] = ((\n",
    "            dataset[f\"bid_{quantile}_{suffix}\"] / (dataset[f\"ask_{quantile}_{suffix}\"] + dataset[f\"bid_{quantile}_{suffix}\"]))\n",
    "            .where((dataset[f\"ask_{quantile}_{suffix}\"] > 0) & (dataset[f\"bid_{quantile}_{suffix}\"] > 0), 0))\n",
    "        \n",
    "stationary_dataset = stationary_dataset.sort_index(axis=1)\n",
    "\n",
    "# ADD TARGET \n",
    "\n",
    "stationary_dataset[\"target\"] = (\n",
    "    pd.read_parquet(f\"binance/close.parquet\")\n",
    "    .drop(BLOCK_TICKERS, axis=1)\n",
    "    .pct_change(fill_method=None)\n",
    "    .shift(-1)\n",
    "    .ffill()\n",
    "    .stack())\n",
    "\n",
    "\n",
    "# CUT OUTLIARS\n",
    "\n",
    "for column_name in stationary_dataset.columns:\n",
    "    stationary_dataset[column_name] = cut_outliers(stationary_dataset[column_name].values)\n",
    "stationary_dataset = stationary_dataset.dropna()"
   ]
  },
  {
   "cell_type": "code",
   "execution_count": 91,
   "metadata": {},
   "outputs": [
    {
     "name": "stdout",
     "output_type": "stream",
     "text": [
      "   0  1  2\n",
      "0  1  2  3\n",
      "1  3  4  2\n"
     ]
    },
    {
     "data": {
      "text/plain": [
       "array([3., 2.])"
      ]
     },
     "execution_count": 91,
     "metadata": {},
     "output_type": "execute_result"
    }
   ],
   "source": [
    "d = pd.DataFrame([[1,2,3],[3,4,2]])\n",
    "print(d)\n",
    "\n",
    "# DATA SCALING\n",
    "X_scaler = MinMaxScaler()\n",
    "y_scaler = MinMaxScaler()\n",
    "d.iloc[:, :-1] = X_scaler.fit_transform(d.iloc[:, :-1])\n",
    "y = y_scaler.fit_transform(d.iloc[:, -1].values.reshape((d.iloc[:, -1].size, 1)))\n",
    "\n",
    "y_scaler.inverse_transform(y).flatten()\n",
    "#ddd = scaler.inverse_transform(dd)\n",
    "\n"
   ]
  },
  {
   "cell_type": "code",
   "execution_count": 155,
   "metadata": {},
   "outputs": [],
   "source": [
    "# MODEL DATA STRUCTURE\n",
    "\n",
    "class cnn_dataset(Dataset):\n",
    "    def __init__(self, data):\n",
    "        self.data = torch.tensor(data[:, :-1], dtype=torch.float32).reshape(-1, 1, data.shape[1]-1)\n",
    "        self.label = torch.tensor(data[:, -1], dtype=torch.float32).unsqueeze_(1)\n",
    "        self.n_samples = data.shape[0] \n",
    "\n",
    "    def __len__(self):\n",
    "        return self.n_samples\n",
    "\n",
    "    def __getitem__(self, idx):\n",
    "        return self.data[idx], self.label[idx]\n",
    "    \n",
    "# CNN NEURAL NETWORK\n",
    "\n",
    "# 48(time)*18\n",
    "\n",
    "class CNN_Model(nn.Module):\n",
    "    def __init__(self):\n",
    "        super(CNN_Model, self).__init__()\n",
    "        self.layer1 = nn.Sequential(nn.Conv1d(1, 16, kernel_size=3, stride=1, padding=1), \n",
    "            nn.ReLU(), nn.MaxPool1d(kernel_size=2)) \n",
    "        self.layer2 = nn.Sequential(nn.Conv1d(16, 32, kernel_size=3, stride=1, padding=1), \n",
    "            nn.ReLU()) #, nn.MaxPool1d(kernel_size=2)) \n",
    "        self.drop_out = nn.Dropout() \n",
    "        self.fc1 = nn.Linear(9 * 32, 3 * 32) \n",
    "        self.fc2 = nn.Linear(3 * 32, 1)\n",
    "\n",
    "    def forward(self, x):\n",
    "        out = self.layer1(x) \n",
    "        out = self.layer2(out) \n",
    "        out = out.reshape(out.size(0), -1) \n",
    "        out = self.drop_out(out) \n",
    "        out = self.fc1(out) \n",
    "        out = self.fc2(out) \n",
    "        return out\n",
    "\n",
    "\n",
    "params = dict(\n",
    "    batch_size = 64,\n",
    "    learning_rate = 1e-4,\n",
    "    epochs = 3\n",
    ")"
   ]
  },
  {
   "cell_type": "code",
   "execution_count": 167,
   "metadata": {},
   "outputs": [],
   "source": [
    "def train_model(model, criterion, optimizer, train_loader, epochs):\n",
    "    train_losses = []\n",
    "    model.train()\n",
    "\n",
    "    for _ in tqdm(range(epochs)):\n",
    "        train_loss = 0\n",
    "\n",
    "        for X, y in train_loader:\n",
    "            y_pred = model(X)\n",
    "            loss = criterion(y_pred, y)\n",
    "            train_loss += loss.item()\n",
    "\n",
    "            optimizer.zero_grad()\n",
    "            loss.backward()\n",
    "            optimizer.step()\n",
    "\n",
    "        train_loss = train_loss / len(train_loader)\n",
    "        train_losses.append(train_loss)\n",
    "        \n",
    "    print(\"Train Loss : {:.8f}\".format(torch.tensor(train_losses).mean()))\n",
    "\n",
    "\n",
    "def test_model(model, criterion, test_loader):\n",
    "    test_losses, predicted_return = [], []\n",
    "    \n",
    "    with torch.no_grad():\n",
    "        test_loss = 0\n",
    "\n",
    "        for X, y in test_loader:\n",
    "            y_pred = model(X)\n",
    "            predicted_return.extend(y_pred.detach().numpy())\n",
    "\n",
    "            loss = criterion(y_pred, y)\n",
    "            test_loss += loss.item()\n",
    "            \n",
    "        test_loss = test_loss / len(test_loader)\n",
    "        test_losses.append(test_loss)\n",
    "    \n",
    "    print(\"Test Loss : {:.8f}\".format(torch.tensor(test_losses).mean()))\n",
    "    print()\n",
    "    return predicted_return\n",
    "    \n",
    "    "
   ]
  },
  {
   "cell_type": "code",
   "execution_count": 168,
   "metadata": {},
   "outputs": [
    {
     "name": "stderr",
     "output_type": "stream",
     "text": [
      "100%|██████████| 2/2 [00:42<00:00, 21.29s/it]\n"
     ]
    },
    {
     "name": "stdout",
     "output_type": "stream",
     "text": [
      "Train Loss : 0.00041777\n",
      "Test Loss : 0.00053016\n",
      "\n"
     ]
    },
    {
     "name": "stderr",
     "output_type": "stream",
     "text": [
      "100%|██████████| 2/2 [00:48<00:00, 24.07s/it]\n"
     ]
    },
    {
     "name": "stdout",
     "output_type": "stream",
     "text": [
      "Train Loss : 0.00048919\n",
      "Test Loss : 0.00013122\n",
      "\n"
     ]
    },
    {
     "name": "stderr",
     "output_type": "stream",
     "text": [
      "100%|██████████| 2/2 [00:54<00:00, 27.21s/it]\n"
     ]
    },
    {
     "name": "stdout",
     "output_type": "stream",
     "text": [
      "Train Loss : 0.00031852\n",
      "Test Loss : 0.00022459\n",
      "\n"
     ]
    },
    {
     "name": "stderr",
     "output_type": "stream",
     "text": [
      "100%|██████████| 2/2 [00:58<00:00, 29.45s/it]\n"
     ]
    },
    {
     "name": "stdout",
     "output_type": "stream",
     "text": [
      "Train Loss : 0.00037252\n",
      "Test Loss : 0.00019300\n",
      "\n"
     ]
    },
    {
     "name": "stderr",
     "output_type": "stream",
     "text": [
      "100%|██████████| 2/2 [01:01<00:00, 30.93s/it]\n"
     ]
    },
    {
     "name": "stdout",
     "output_type": "stream",
     "text": [
      "Train Loss : 0.00051471\n",
      "Test Loss : 0.00090713\n",
      "\n"
     ]
    },
    {
     "name": "stderr",
     "output_type": "stream",
     "text": [
      "100%|██████████| 2/2 [01:02<00:00, 31.34s/it]\n"
     ]
    },
    {
     "name": "stdout",
     "output_type": "stream",
     "text": [
      "Train Loss : 0.00003925\n",
      "Test Loss : 0.00006249\n",
      "\n"
     ]
    },
    {
     "name": "stderr",
     "output_type": "stream",
     "text": [
      "100%|██████████| 2/2 [01:11<00:00, 35.97s/it]\n"
     ]
    },
    {
     "name": "stdout",
     "output_type": "stream",
     "text": [
      "Train Loss : 0.00005386\n",
      "Test Loss : 0.00006374\n",
      "\n"
     ]
    },
    {
     "name": "stderr",
     "output_type": "stream",
     "text": [
      "100%|██████████| 2/2 [01:09<00:00, 34.54s/it]\n"
     ]
    },
    {
     "name": "stdout",
     "output_type": "stream",
     "text": [
      "Train Loss : 0.00005091\n",
      "Test Loss : 0.00005035\n",
      "\n"
     ]
    },
    {
     "name": "stderr",
     "output_type": "stream",
     "text": [
      "100%|██████████| 2/2 [01:07<00:00, 33.85s/it]\n"
     ]
    },
    {
     "name": "stdout",
     "output_type": "stream",
     "text": [
      "Train Loss : 0.00051434\n",
      "Test Loss : 0.00048272\n",
      "\n"
     ]
    },
    {
     "name": "stderr",
     "output_type": "stream",
     "text": [
      "100%|██████████| 2/2 [01:06<00:00, 33.30s/it]\n"
     ]
    },
    {
     "name": "stdout",
     "output_type": "stream",
     "text": [
      "Train Loss : 0.00057724\n",
      "Test Loss : 0.00027627\n",
      "\n"
     ]
    },
    {
     "name": "stderr",
     "output_type": "stream",
     "text": [
      "100%|██████████| 2/2 [01:20<00:00, 40.13s/it]\n"
     ]
    },
    {
     "name": "stdout",
     "output_type": "stream",
     "text": [
      "Train Loss : 0.00038309\n",
      "Test Loss : 0.00011079\n",
      "\n"
     ]
    },
    {
     "name": "stderr",
     "output_type": "stream",
     "text": [
      "100%|██████████| 2/2 [01:41<00:00, 50.88s/it]\n"
     ]
    },
    {
     "name": "stdout",
     "output_type": "stream",
     "text": [
      "Train Loss : 0.00032436\n",
      "Test Loss : 0.00012856\n",
      "\n"
     ]
    },
    {
     "name": "stderr",
     "output_type": "stream",
     "text": [
      "100%|██████████| 2/2 [02:07<00:00, 63.88s/it]\n"
     ]
    },
    {
     "name": "stdout",
     "output_type": "stream",
     "text": [
      "Train Loss : 0.00019535\n",
      "Test Loss : 0.00019778\n",
      "\n"
     ]
    },
    {
     "name": "stderr",
     "output_type": "stream",
     "text": [
      "100%|██████████| 2/2 [02:23<00:00, 71.55s/it]\n"
     ]
    },
    {
     "name": "stdout",
     "output_type": "stream",
     "text": [
      "Train Loss : 0.00021089\n",
      "Test Loss : 0.00007456\n",
      "\n"
     ]
    },
    {
     "name": "stderr",
     "output_type": "stream",
     "text": [
      "100%|██████████| 2/2 [02:28<00:00, 74.40s/it]\n"
     ]
    },
    {
     "name": "stdout",
     "output_type": "stream",
     "text": [
      "Train Loss : 0.00007429\n",
      "Test Loss : 0.00003357\n",
      "\n"
     ]
    },
    {
     "name": "stderr",
     "output_type": "stream",
     "text": [
      "100%|██████████| 2/2 [02:31<00:00, 75.88s/it]\n"
     ]
    },
    {
     "name": "stdout",
     "output_type": "stream",
     "text": [
      "Train Loss : 0.00006083\n",
      "Test Loss : 0.00003511\n",
      "\n"
     ]
    },
    {
     "name": "stderr",
     "output_type": "stream",
     "text": [
      "100%|██████████| 2/2 [02:44<00:00, 82.16s/it]\n"
     ]
    },
    {
     "name": "stdout",
     "output_type": "stream",
     "text": [
      "Train Loss : 0.00007568\n",
      "Test Loss : 0.00002235\n",
      "\n"
     ]
    },
    {
     "name": "stderr",
     "output_type": "stream",
     "text": [
      "100%|██████████| 2/2 [02:44<00:00, 82.10s/it]\n"
     ]
    },
    {
     "name": "stdout",
     "output_type": "stream",
     "text": [
      "Train Loss : 0.00004781\n",
      "Test Loss : 0.00001845\n",
      "\n"
     ]
    },
    {
     "name": "stderr",
     "output_type": "stream",
     "text": [
      "100%|██████████| 2/2 [02:40<00:00, 80.07s/it]\n"
     ]
    },
    {
     "name": "stdout",
     "output_type": "stream",
     "text": [
      "Train Loss : 0.00022694\n",
      "Test Loss : 0.00007275\n",
      "\n"
     ]
    },
    {
     "name": "stderr",
     "output_type": "stream",
     "text": [
      "100%|██████████| 2/2 [02:44<00:00, 82.22s/it]\n"
     ]
    },
    {
     "name": "stdout",
     "output_type": "stream",
     "text": [
      "Train Loss : 0.00013319\n",
      "Test Loss : 0.00006047\n",
      "\n"
     ]
    },
    {
     "name": "stderr",
     "output_type": "stream",
     "text": [
      "100%|██████████| 2/2 [02:43<00:00, 81.83s/it]\n"
     ]
    },
    {
     "name": "stdout",
     "output_type": "stream",
     "text": [
      "Train Loss : 0.00011755\n",
      "Test Loss : 0.00044803\n",
      "\n"
     ]
    },
    {
     "name": "stderr",
     "output_type": "stream",
     "text": [
      "100%|██████████| 2/2 [02:50<00:00, 85.20s/it]\n"
     ]
    },
    {
     "name": "stdout",
     "output_type": "stream",
     "text": [
      "Train Loss : 0.00008018\n",
      "Test Loss : 0.00007382\n",
      "\n"
     ]
    },
    {
     "name": "stderr",
     "output_type": "stream",
     "text": [
      "100%|██████████| 2/2 [02:47<00:00, 83.93s/it]\n"
     ]
    },
    {
     "name": "stdout",
     "output_type": "stream",
     "text": [
      "Train Loss : 0.00004813\n",
      "Test Loss : 0.00005179\n",
      "\n"
     ]
    },
    {
     "name": "stderr",
     "output_type": "stream",
     "text": [
      "100%|██████████| 2/2 [02:53<00:00, 86.61s/it]\n"
     ]
    },
    {
     "name": "stdout",
     "output_type": "stream",
     "text": [
      "Train Loss : 0.00006669\n",
      "Test Loss : 0.00002890\n",
      "\n"
     ]
    },
    {
     "name": "stderr",
     "output_type": "stream",
     "text": [
      "100%|██████████| 2/2 [02:54<00:00, 87.26s/it]\n"
     ]
    },
    {
     "name": "stdout",
     "output_type": "stream",
     "text": [
      "Train Loss : 0.00004071\n",
      "Test Loss : 0.00003593\n",
      "\n"
     ]
    },
    {
     "name": "stderr",
     "output_type": "stream",
     "text": [
      "100%|██████████| 2/2 [02:52<00:00, 86.18s/it]\n"
     ]
    },
    {
     "name": "stdout",
     "output_type": "stream",
     "text": [
      "Train Loss : 0.00007171\n",
      "Test Loss : 0.00005923\n",
      "\n"
     ]
    },
    {
     "name": "stderr",
     "output_type": "stream",
     "text": [
      "100%|██████████| 2/2 [02:46<00:00, 83.22s/it]\n"
     ]
    },
    {
     "name": "stdout",
     "output_type": "stream",
     "text": [
      "Train Loss : 0.00006082\n",
      "Test Loss : 0.00003857\n",
      "\n"
     ]
    },
    {
     "name": "stderr",
     "output_type": "stream",
     "text": [
      "100%|██████████| 2/2 [02:56<00:00, 88.03s/it]\n"
     ]
    },
    {
     "name": "stdout",
     "output_type": "stream",
     "text": [
      "Train Loss : 0.00002182\n",
      "Test Loss : 0.00003325\n",
      "\n"
     ]
    }
   ],
   "source": [
    "# TRAINING & PREDICTION\n",
    "\n",
    "date_current = pd.Timestamp(\"2020-06\")\n",
    "date_end = pd.Timestamp(\"2022-09\")\n",
    "correction =  pd.Timedelta(30, unit=\"m\")\n",
    "month_step = pd.DateOffset(months=1)\n",
    "\n",
    "predicted_returns = []\n",
    "\n",
    "while date_current <= date_end:\n",
    "\n",
    "    cnn_model = CNN_Model()\n",
    "    criterion = nn.MSELoss() \n",
    "    optimizer = torch.optim.Adam(cnn_model.parameters(), lr=params['learning_rate'])\n",
    "    \n",
    "    train_test_split = date_current + month_step * 3\n",
    "\n",
    "    train_dataset = stationary_dataset.loc[idx[date_current : train_test_split - correction, :], :].drop_duplicates()\n",
    "    test_dataset = stationary_dataset.loc[idx[train_test_split : train_test_split + month_step - correction, :], :]\n",
    "\n",
    "    # DATA SCALING\n",
    "    \n",
    "    X_scaler = MinMaxScaler()\n",
    "    train_dataset.iloc[:, :-1] = X_scaler.fit_transform(train_dataset.iloc[:,:-1])\n",
    "    test_dataset.iloc[:, :-1] = X_scaler.transform(test_dataset.iloc[:,:-1])\n",
    "\n",
    "    y_scaler = MinMaxScaler()\n",
    "    train_dataset.iloc[:, -1] = y_scaler.fit_transform(train_dataset.iloc[:,-1].values.reshape((train_dataset.iloc[:, -1].size, 1)))\n",
    "    test_dataset.iloc[:, -1] = y_scaler.transform(test_dataset.iloc[:,-1].values.reshape((test_dataset.iloc[:, -1].size, 1)))\n",
    "\n",
    "    # TRAIN AND TEST\n",
    "\n",
    "    train_loader = DataLoader(cnn_dataset(train_dataset.values), batch_size=params['batch_size'])\n",
    "    test_loader = DataLoader(cnn_dataset(test_dataset.values), batch_size=params['batch_size'])\n",
    "\n",
    "    train_model(cnn_model, criterion, optimizer, train_loader, 2)\n",
    "    \n",
    "    predicted_return = test_model(cnn_model, criterion, test_loader)\n",
    "    predicted_return = y_scaler.inverse_transform(predicted_return).flatten()\n",
    "    predicted_returns.append(pd.Series(np.array(predicted_return), index=stationary_dataset[train_test_split : train_test_split + month_step - correction].index))\n",
    "    \n",
    "    date_current = date_current + month_step"
   ]
  },
  {
   "cell_type": "code",
   "execution_count": 174,
   "metadata": {},
   "outputs": [
    {
     "data": {
      "text/html": [
       "<div>\n",
       "<style scoped>\n",
       "    .dataframe tbody tr th:only-of-type {\n",
       "        vertical-align: middle;\n",
       "    }\n",
       "\n",
       "    .dataframe tbody tr th {\n",
       "        vertical-align: top;\n",
       "    }\n",
       "\n",
       "    .dataframe thead th {\n",
       "        text-align: right;\n",
       "    }\n",
       "</style>\n",
       "<table border=\"1\" class=\"dataframe\">\n",
       "  <thead>\n",
       "    <tr style=\"text-align: right;\">\n",
       "      <th>level_1</th>\n",
       "      <th>1INCH-USDT</th>\n",
       "      <th>1INCHDOWN-USDT</th>\n",
       "      <th>1INCHUP-USDT</th>\n",
       "      <th>AAVE-USDT</th>\n",
       "      <th>AAVEUP-USDT</th>\n",
       "      <th>ACA-USDT</th>\n",
       "      <th>ACH-USDT</th>\n",
       "      <th>ACM-USDT</th>\n",
       "      <th>ADA-USDT</th>\n",
       "      <th>ADADOWN-USDT</th>\n",
       "      <th>...</th>\n",
       "      <th>XVS-USDT</th>\n",
       "      <th>XZC-USDT</th>\n",
       "      <th>YFI-USDT</th>\n",
       "      <th>YFII-USDT</th>\n",
       "      <th>YFIUP-USDT</th>\n",
       "      <th>YGG-USDT</th>\n",
       "      <th>ZEC-USDT</th>\n",
       "      <th>ZEN-USDT</th>\n",
       "      <th>ZIL-USDT</th>\n",
       "      <th>ZRX-USDT</th>\n",
       "    </tr>\n",
       "    <tr>\n",
       "      <th>level_0</th>\n",
       "      <th></th>\n",
       "      <th></th>\n",
       "      <th></th>\n",
       "      <th></th>\n",
       "      <th></th>\n",
       "      <th></th>\n",
       "      <th></th>\n",
       "      <th></th>\n",
       "      <th></th>\n",
       "      <th></th>\n",
       "      <th></th>\n",
       "      <th></th>\n",
       "      <th></th>\n",
       "      <th></th>\n",
       "      <th></th>\n",
       "      <th></th>\n",
       "      <th></th>\n",
       "      <th></th>\n",
       "      <th></th>\n",
       "      <th></th>\n",
       "      <th></th>\n",
       "    </tr>\n",
       "  </thead>\n",
       "  <tbody>\n",
       "    <tr>\n",
       "      <th>2020-09-01 00:00:00</th>\n",
       "      <td>NaN</td>\n",
       "      <td>NaN</td>\n",
       "      <td>NaN</td>\n",
       "      <td>NaN</td>\n",
       "      <td>NaN</td>\n",
       "      <td>NaN</td>\n",
       "      <td>NaN</td>\n",
       "      <td>NaN</td>\n",
       "      <td>-0.000658</td>\n",
       "      <td>NaN</td>\n",
       "      <td>...</td>\n",
       "      <td>NaN</td>\n",
       "      <td>-0.000262</td>\n",
       "      <td>-0.000829</td>\n",
       "      <td>NaN</td>\n",
       "      <td>NaN</td>\n",
       "      <td>NaN</td>\n",
       "      <td>-0.000903</td>\n",
       "      <td>NaN</td>\n",
       "      <td>-0.000145</td>\n",
       "      <td>-0.000713</td>\n",
       "    </tr>\n",
       "    <tr>\n",
       "      <th>2020-09-01 00:30:00</th>\n",
       "      <td>NaN</td>\n",
       "      <td>NaN</td>\n",
       "      <td>NaN</td>\n",
       "      <td>NaN</td>\n",
       "      <td>NaN</td>\n",
       "      <td>NaN</td>\n",
       "      <td>NaN</td>\n",
       "      <td>NaN</td>\n",
       "      <td>-0.000735</td>\n",
       "      <td>NaN</td>\n",
       "      <td>...</td>\n",
       "      <td>NaN</td>\n",
       "      <td>0.000044</td>\n",
       "      <td>-0.001145</td>\n",
       "      <td>NaN</td>\n",
       "      <td>NaN</td>\n",
       "      <td>NaN</td>\n",
       "      <td>-0.000859</td>\n",
       "      <td>NaN</td>\n",
       "      <td>-0.000714</td>\n",
       "      <td>-0.000736</td>\n",
       "    </tr>\n",
       "    <tr>\n",
       "      <th>2020-09-01 01:00:00</th>\n",
       "      <td>NaN</td>\n",
       "      <td>NaN</td>\n",
       "      <td>NaN</td>\n",
       "      <td>NaN</td>\n",
       "      <td>NaN</td>\n",
       "      <td>NaN</td>\n",
       "      <td>NaN</td>\n",
       "      <td>NaN</td>\n",
       "      <td>-0.000720</td>\n",
       "      <td>NaN</td>\n",
       "      <td>...</td>\n",
       "      <td>NaN</td>\n",
       "      <td>0.001994</td>\n",
       "      <td>-0.000707</td>\n",
       "      <td>NaN</td>\n",
       "      <td>NaN</td>\n",
       "      <td>NaN</td>\n",
       "      <td>-0.000660</td>\n",
       "      <td>NaN</td>\n",
       "      <td>-0.000727</td>\n",
       "      <td>-0.001377</td>\n",
       "    </tr>\n",
       "    <tr>\n",
       "      <th>2020-09-01 01:30:00</th>\n",
       "      <td>NaN</td>\n",
       "      <td>NaN</td>\n",
       "      <td>NaN</td>\n",
       "      <td>NaN</td>\n",
       "      <td>NaN</td>\n",
       "      <td>NaN</td>\n",
       "      <td>NaN</td>\n",
       "      <td>NaN</td>\n",
       "      <td>-0.000713</td>\n",
       "      <td>NaN</td>\n",
       "      <td>...</td>\n",
       "      <td>NaN</td>\n",
       "      <td>0.000447</td>\n",
       "      <td>-0.000860</td>\n",
       "      <td>NaN</td>\n",
       "      <td>NaN</td>\n",
       "      <td>NaN</td>\n",
       "      <td>-0.000728</td>\n",
       "      <td>NaN</td>\n",
       "      <td>-0.000144</td>\n",
       "      <td>-0.000786</td>\n",
       "    </tr>\n",
       "    <tr>\n",
       "      <th>2020-09-01 02:00:00</th>\n",
       "      <td>NaN</td>\n",
       "      <td>NaN</td>\n",
       "      <td>NaN</td>\n",
       "      <td>NaN</td>\n",
       "      <td>NaN</td>\n",
       "      <td>NaN</td>\n",
       "      <td>NaN</td>\n",
       "      <td>NaN</td>\n",
       "      <td>-0.000605</td>\n",
       "      <td>NaN</td>\n",
       "      <td>...</td>\n",
       "      <td>NaN</td>\n",
       "      <td>-0.000682</td>\n",
       "      <td>-0.000737</td>\n",
       "      <td>NaN</td>\n",
       "      <td>NaN</td>\n",
       "      <td>NaN</td>\n",
       "      <td>-0.000683</td>\n",
       "      <td>NaN</td>\n",
       "      <td>-0.000723</td>\n",
       "      <td>-0.000872</td>\n",
       "    </tr>\n",
       "    <tr>\n",
       "      <th>...</th>\n",
       "      <td>...</td>\n",
       "      <td>...</td>\n",
       "      <td>...</td>\n",
       "      <td>...</td>\n",
       "      <td>...</td>\n",
       "      <td>...</td>\n",
       "      <td>...</td>\n",
       "      <td>...</td>\n",
       "      <td>...</td>\n",
       "      <td>...</td>\n",
       "      <td>...</td>\n",
       "      <td>...</td>\n",
       "      <td>...</td>\n",
       "      <td>...</td>\n",
       "      <td>...</td>\n",
       "      <td>...</td>\n",
       "      <td>...</td>\n",
       "      <td>...</td>\n",
       "      <td>...</td>\n",
       "      <td>...</td>\n",
       "      <td>...</td>\n",
       "    </tr>\n",
       "    <tr>\n",
       "      <th>2022-12-31 21:30:00</th>\n",
       "      <td>-0.000349</td>\n",
       "      <td>-0.000349</td>\n",
       "      <td>-0.000349</td>\n",
       "      <td>-0.000349</td>\n",
       "      <td>-0.000349</td>\n",
       "      <td>-0.000349</td>\n",
       "      <td>-0.000349</td>\n",
       "      <td>-0.000349</td>\n",
       "      <td>-0.000349</td>\n",
       "      <td>-0.000349</td>\n",
       "      <td>...</td>\n",
       "      <td>-0.000349</td>\n",
       "      <td>-0.000349</td>\n",
       "      <td>-0.000349</td>\n",
       "      <td>-0.000349</td>\n",
       "      <td>-0.000349</td>\n",
       "      <td>-0.000349</td>\n",
       "      <td>-0.000349</td>\n",
       "      <td>-0.000349</td>\n",
       "      <td>-0.000349</td>\n",
       "      <td>-0.000349</td>\n",
       "    </tr>\n",
       "    <tr>\n",
       "      <th>2022-12-31 22:00:00</th>\n",
       "      <td>-0.000349</td>\n",
       "      <td>-0.000349</td>\n",
       "      <td>-0.000349</td>\n",
       "      <td>-0.000349</td>\n",
       "      <td>-0.000349</td>\n",
       "      <td>-0.000349</td>\n",
       "      <td>-0.000349</td>\n",
       "      <td>-0.000349</td>\n",
       "      <td>-0.000349</td>\n",
       "      <td>-0.000349</td>\n",
       "      <td>...</td>\n",
       "      <td>-0.000349</td>\n",
       "      <td>-0.000349</td>\n",
       "      <td>-0.000349</td>\n",
       "      <td>-0.000349</td>\n",
       "      <td>-0.000349</td>\n",
       "      <td>-0.000349</td>\n",
       "      <td>-0.000349</td>\n",
       "      <td>-0.000349</td>\n",
       "      <td>-0.000349</td>\n",
       "      <td>-0.000349</td>\n",
       "    </tr>\n",
       "    <tr>\n",
       "      <th>2022-12-31 22:30:00</th>\n",
       "      <td>-0.000349</td>\n",
       "      <td>-0.000349</td>\n",
       "      <td>-0.000349</td>\n",
       "      <td>-0.000349</td>\n",
       "      <td>-0.000349</td>\n",
       "      <td>-0.000349</td>\n",
       "      <td>-0.000349</td>\n",
       "      <td>-0.000349</td>\n",
       "      <td>-0.000349</td>\n",
       "      <td>-0.000349</td>\n",
       "      <td>...</td>\n",
       "      <td>-0.000349</td>\n",
       "      <td>-0.000349</td>\n",
       "      <td>-0.000349</td>\n",
       "      <td>-0.000349</td>\n",
       "      <td>-0.000166</td>\n",
       "      <td>-0.000349</td>\n",
       "      <td>-0.000349</td>\n",
       "      <td>-0.000349</td>\n",
       "      <td>-0.000349</td>\n",
       "      <td>-0.000349</td>\n",
       "    </tr>\n",
       "    <tr>\n",
       "      <th>2022-12-31 23:00:00</th>\n",
       "      <td>-0.000349</td>\n",
       "      <td>-0.000349</td>\n",
       "      <td>-0.000349</td>\n",
       "      <td>-0.000349</td>\n",
       "      <td>-0.000349</td>\n",
       "      <td>-0.000349</td>\n",
       "      <td>-0.000349</td>\n",
       "      <td>-0.000349</td>\n",
       "      <td>-0.000349</td>\n",
       "      <td>-0.000349</td>\n",
       "      <td>...</td>\n",
       "      <td>-0.000349</td>\n",
       "      <td>-0.000349</td>\n",
       "      <td>-0.000349</td>\n",
       "      <td>-0.000349</td>\n",
       "      <td>-0.000349</td>\n",
       "      <td>-0.000349</td>\n",
       "      <td>-0.000349</td>\n",
       "      <td>-0.000349</td>\n",
       "      <td>-0.000349</td>\n",
       "      <td>-0.000349</td>\n",
       "    </tr>\n",
       "    <tr>\n",
       "      <th>2022-12-31 23:30:00</th>\n",
       "      <td>-0.000349</td>\n",
       "      <td>-0.000349</td>\n",
       "      <td>-0.000349</td>\n",
       "      <td>-0.000349</td>\n",
       "      <td>-0.000349</td>\n",
       "      <td>-0.000349</td>\n",
       "      <td>-0.000349</td>\n",
       "      <td>-0.000349</td>\n",
       "      <td>-0.000349</td>\n",
       "      <td>-0.000349</td>\n",
       "      <td>...</td>\n",
       "      <td>-0.000349</td>\n",
       "      <td>-0.000349</td>\n",
       "      <td>-0.000349</td>\n",
       "      <td>-0.000349</td>\n",
       "      <td>-0.000166</td>\n",
       "      <td>-0.000349</td>\n",
       "      <td>-0.000349</td>\n",
       "      <td>-0.000349</td>\n",
       "      <td>-0.000349</td>\n",
       "      <td>-0.000349</td>\n",
       "    </tr>\n",
       "  </tbody>\n",
       "</table>\n",
       "<p>40896 rows × 379 columns</p>\n",
       "</div>"
      ],
      "text/plain": [
       "level_1              1INCH-USDT  1INCHDOWN-USDT  1INCHUP-USDT  AAVE-USDT  \\\n",
       "level_0                                                                    \n",
       "2020-09-01 00:00:00         NaN             NaN           NaN        NaN   \n",
       "2020-09-01 00:30:00         NaN             NaN           NaN        NaN   \n",
       "2020-09-01 01:00:00         NaN             NaN           NaN        NaN   \n",
       "2020-09-01 01:30:00         NaN             NaN           NaN        NaN   \n",
       "2020-09-01 02:00:00         NaN             NaN           NaN        NaN   \n",
       "...                         ...             ...           ...        ...   \n",
       "2022-12-31 21:30:00   -0.000349       -0.000349     -0.000349  -0.000349   \n",
       "2022-12-31 22:00:00   -0.000349       -0.000349     -0.000349  -0.000349   \n",
       "2022-12-31 22:30:00   -0.000349       -0.000349     -0.000349  -0.000349   \n",
       "2022-12-31 23:00:00   -0.000349       -0.000349     -0.000349  -0.000349   \n",
       "2022-12-31 23:30:00   -0.000349       -0.000349     -0.000349  -0.000349   \n",
       "\n",
       "level_1              AAVEUP-USDT  ACA-USDT  ACH-USDT  ACM-USDT  ADA-USDT  \\\n",
       "level_0                                                                    \n",
       "2020-09-01 00:00:00          NaN       NaN       NaN       NaN -0.000658   \n",
       "2020-09-01 00:30:00          NaN       NaN       NaN       NaN -0.000735   \n",
       "2020-09-01 01:00:00          NaN       NaN       NaN       NaN -0.000720   \n",
       "2020-09-01 01:30:00          NaN       NaN       NaN       NaN -0.000713   \n",
       "2020-09-01 02:00:00          NaN       NaN       NaN       NaN -0.000605   \n",
       "...                          ...       ...       ...       ...       ...   \n",
       "2022-12-31 21:30:00    -0.000349 -0.000349 -0.000349 -0.000349 -0.000349   \n",
       "2022-12-31 22:00:00    -0.000349 -0.000349 -0.000349 -0.000349 -0.000349   \n",
       "2022-12-31 22:30:00    -0.000349 -0.000349 -0.000349 -0.000349 -0.000349   \n",
       "2022-12-31 23:00:00    -0.000349 -0.000349 -0.000349 -0.000349 -0.000349   \n",
       "2022-12-31 23:30:00    -0.000349 -0.000349 -0.000349 -0.000349 -0.000349   \n",
       "\n",
       "level_1              ADADOWN-USDT  ...  XVS-USDT  XZC-USDT  YFI-USDT  \\\n",
       "level_0                            ...                                 \n",
       "2020-09-01 00:00:00           NaN  ...       NaN -0.000262 -0.000829   \n",
       "2020-09-01 00:30:00           NaN  ...       NaN  0.000044 -0.001145   \n",
       "2020-09-01 01:00:00           NaN  ...       NaN  0.001994 -0.000707   \n",
       "2020-09-01 01:30:00           NaN  ...       NaN  0.000447 -0.000860   \n",
       "2020-09-01 02:00:00           NaN  ...       NaN -0.000682 -0.000737   \n",
       "...                           ...  ...       ...       ...       ...   \n",
       "2022-12-31 21:30:00     -0.000349  ... -0.000349 -0.000349 -0.000349   \n",
       "2022-12-31 22:00:00     -0.000349  ... -0.000349 -0.000349 -0.000349   \n",
       "2022-12-31 22:30:00     -0.000349  ... -0.000349 -0.000349 -0.000349   \n",
       "2022-12-31 23:00:00     -0.000349  ... -0.000349 -0.000349 -0.000349   \n",
       "2022-12-31 23:30:00     -0.000349  ... -0.000349 -0.000349 -0.000349   \n",
       "\n",
       "level_1              YFII-USDT  YFIUP-USDT  YGG-USDT  ZEC-USDT  ZEN-USDT  \\\n",
       "level_0                                                                    \n",
       "2020-09-01 00:00:00        NaN         NaN       NaN -0.000903       NaN   \n",
       "2020-09-01 00:30:00        NaN         NaN       NaN -0.000859       NaN   \n",
       "2020-09-01 01:00:00        NaN         NaN       NaN -0.000660       NaN   \n",
       "2020-09-01 01:30:00        NaN         NaN       NaN -0.000728       NaN   \n",
       "2020-09-01 02:00:00        NaN         NaN       NaN -0.000683       NaN   \n",
       "...                        ...         ...       ...       ...       ...   \n",
       "2022-12-31 21:30:00  -0.000349   -0.000349 -0.000349 -0.000349 -0.000349   \n",
       "2022-12-31 22:00:00  -0.000349   -0.000349 -0.000349 -0.000349 -0.000349   \n",
       "2022-12-31 22:30:00  -0.000349   -0.000166 -0.000349 -0.000349 -0.000349   \n",
       "2022-12-31 23:00:00  -0.000349   -0.000349 -0.000349 -0.000349 -0.000349   \n",
       "2022-12-31 23:30:00  -0.000349   -0.000166 -0.000349 -0.000349 -0.000349   \n",
       "\n",
       "level_1              ZIL-USDT  ZRX-USDT  \n",
       "level_0                                  \n",
       "2020-09-01 00:00:00 -0.000145 -0.000713  \n",
       "2020-09-01 00:30:00 -0.000714 -0.000736  \n",
       "2020-09-01 01:00:00 -0.000727 -0.001377  \n",
       "2020-09-01 01:30:00 -0.000144 -0.000786  \n",
       "2020-09-01 02:00:00 -0.000723 -0.000872  \n",
       "...                       ...       ...  \n",
       "2022-12-31 21:30:00 -0.000349 -0.000349  \n",
       "2022-12-31 22:00:00 -0.000349 -0.000349  \n",
       "2022-12-31 22:30:00 -0.000349 -0.000349  \n",
       "2022-12-31 23:00:00 -0.000349 -0.000349  \n",
       "2022-12-31 23:30:00 -0.000349 -0.000349  \n",
       "\n",
       "[40896 rows x 379 columns]"
      ]
     },
     "execution_count": 174,
     "metadata": {},
     "output_type": "execute_result"
    }
   ],
   "source": [
    "CNN_WEIGHTS = pd.concat(predicted_returns).reset_index().pivot(index=\"level_0\", columns=\"level_1\", values = 0)\n",
    "CNN_WEIGHTS.to_parquet(\"raw_alpha_weights/CNN_WEIGHTS.gzip\", compression='gzip')\n",
    "CNN_WEIGHTS"
   ]
  },
  {
   "cell_type": "code",
   "execution_count": 173,
   "metadata": {},
   "outputs": [
    {
     "name": "stdout",
     "output_type": "stream",
     "text": [
      "Стратегия CNN\n",
      "\n",
      "Annualized Sharpe Ratio = 4.52\n",
      "Daily tvr = 474.8%\n",
      "Annual return = 133.14%\n",
      "Max Drawdown = -25.01%\n",
      "Margin = 0.0 bp\n",
      "\n"
     ]
    },
    {
     "data": {
      "image/png": "[encoded data removed]",
      "text/plain": [
       "<Figure size 900x400 with 1 Axes>"
      ]
     },
     "metadata": {},
     "output_type": "display_data"
    }
   ],
   "source": [
    "#CNN_WEIGHTS = pd.read_parquet(\"raw_alpha_weights/CNN_WEIGHTS.gzip\")\n",
    "close_df = pd.read_parquet(\"binance/close.parquet\")[\"2020-09-01\":].drop(BLOCK_TICKERS, axis=1)\n",
    "vwap_df = pd.read_parquet(\"binance/vwap.parquet\")[\"2020-09-01\":].drop(BLOCK_TICKERS, axis=1)\n",
    "\n",
    "CNN_ALPHA = Alpha(CNN_WEIGHTS, close_df, vwap_df)\n",
    "CNN_ALPHA.truncate_and_normalize(0.05)\n",
    "CNN_ALPHA.decay(7)\n",
    "\n",
    "plt.figure(figsize=(9, 4))\n",
    "CNN_ALPHA.backtest(display=True, label=\"Стратегия CNN\")\n",
    "plt.legend()\n",
    "plt.grid()\n",
    "plt.show()"
   ]
  },
  {
   "cell_type": "code",
   "execution_count": null,
   "metadata": {},
   "outputs": [],
   "source": []
  }
 ],
 "metadata": {
  "kernelspec": {
   "display_name": "srw_venv",
   "language": "python",
   "name": "python3"
  },
  "language_info": {
   "codemirror_mode": {
    "name": "ipython",
    "version": 3
   },
   "file_extension": ".py",
   "mimetype": "text/x-python",
   "name": "python",
   "nbconvert_exporter": "python",
   "pygments_lexer": "ipython3",
   "version": "3.11.5"
  }
 },
 "nbformat": 4,
 "nbformat_minor": 2
}
