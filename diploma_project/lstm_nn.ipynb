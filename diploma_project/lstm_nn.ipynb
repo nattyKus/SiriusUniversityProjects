{
 "cells": [
  {
   "cell_type": "code",
   "execution_count": 2,
   "metadata": {},
   "outputs": [],
   "source": [
    "import os\n",
    "import pandas as pd\n",
    "import numpy as np\n",
    "import matplotlib.pyplot as plt\n",
    "\n",
    "import torch\n",
    "import torch.nn as nn\n",
    "from torch.utils.data import Dataset, DataLoader\n",
    "\n",
    "from tqdm import tqdm\n",
    "from IPython.display import clear_output\n",
    "\n",
    "from Alpha import Alpha"
   ]
  },
  {
   "cell_type": "code",
   "execution_count": 2,
   "metadata": {},
   "outputs": [],
   "source": [
    "def cut_outliers(x, show=False):\n",
    "\n",
    "    if show:\n",
    "        # данные до обработки\n",
    "        fig, (ax1, ax2) = plt.subplots(1, 2, figsize=(16, 4))\n",
    "        ax1.set_title('before formatting')\n",
    "        ax1.plot(x)\n",
    "\n",
    "    if cut_outliers:\n",
    "        lower_bound = np.quantile(x, 0.005)\n",
    "        upper_bound = np.quantile(x, 0.995)\n",
    "        x[x < lower_bound] = lower_bound\n",
    "        x[x > upper_bound] = upper_bound\n",
    "\n",
    "    if show:\n",
    "        # данные после обработки\n",
    "        ax2.set_title('after formatting')\n",
    "        ax2.plot(x)\n",
    "        plt.show()\n",
    "\n",
    "    return x"
   ]
  },
  {
   "cell_type": "code",
   "execution_count": 4,
   "metadata": {},
   "outputs": [],
   "source": [
    "# EMPTY TICKERS OR TICKERS WITH GAP\n",
    "\n",
    "TICKERS_WITH_GAP = ['AAVEDOWN-USDT', 'BNBDOWN-USDT', 'DOTDOWN-USDT', 'DREP-USDT',\n",
    "       'ETHDOWN-USDT', 'LINKDOWN-USDT', 'LTCDOWN-USDT', 'LUNA-USDT',\n",
    "       'SUSHIDOWN-USDT', 'SXPDOWN-USDT', 'TRXDOWN-USDT', 'UNIDOWN-USDT',\n",
    "       'XLMDOWN-USDT', 'XTZDOWN-USDT', 'YFIDOWN-USDT']\n",
    "\n",
    "BLOCK_TICKERS = []\n",
    "\n",
    "close_df = pd.read_parquet(f\"binance/close.parquet\")\n",
    "yy = close_df.dropna(how='all', axis=1)\n",
    "BLOCK_TICKERS = list(set(close_df.columns).difference(set(yy.columns)))\n",
    "BLOCK_TICKERS.extend(TICKERS_WITH_GAP)"
   ]
  },
  {
   "cell_type": "code",
   "execution_count": null,
   "metadata": {},
   "outputs": [],
   "source": [
    "# READ DATA\n",
    "\n",
    "all_files = os.listdir(\"binance/\")\n",
    "stationary_dataset = pd.DataFrame()\n",
    "\n",
    "\n",
    "# WORKING WITH BAR COMPONENTS DATA\n",
    "\n",
    "bar_components = [\"vwap\", \"open\", \"high\", \"low\"]\n",
    "for bar_component in bar_components: \n",
    "    stationary_dataset[bar_component + \"_pct\"] = (\n",
    "        pd.read_parquet(f\"binance/{bar_component}.parquet\")\n",
    "        .drop(BLOCK_TICKERS, axis=1)\n",
    "        .pct_change(fill_method=None)\n",
    "        .ffill()\n",
    "        .stack())\n",
    "    all_files.remove(f\"{bar_component}.parquet\")\n",
    "\n",
    "print(\"bar\", stationary_dataset.isna().sum().sum())\n",
    "\n",
    "\n",
    "# WORKING WITH OTHER DATA\n",
    "\n",
    "all_files.remove(f\"close.parquet\") # target later\n",
    "\n",
    "dataset = pd.DataFrame()\n",
    "for filename in tqdm(all_files):\n",
    "    dataset[filename.split('.')[0]] = (\n",
    "        pd.read_parquet(f\"binance/{filename}\")\n",
    "        .drop(BLOCK_TICKERS, axis=1)\n",
    "        .ffill()\n",
    "        .stack())\n",
    "\n",
    "\n",
    "# ORDER BOOK DATA\n",
    "\n",
    "stationary_dataset[\"volume\"] = dataset[\"sell_volume\"] / dataset[\"buy_volume\"]\n",
    "stationary_dataset[\"count\"] = dataset[\"sell_count\"] / dataset[\"buy_count\"]\n",
    "\n",
    "stationary_dataset[\"best_bid_ask\"] = dataset[\"best_bid\"] / dataset[\"best_ask\"]\n",
    "stationary_dataset[\"best_bid_ask_size\"] = dataset[\"best_bid_size\"] / dataset[\"best_ask_size\"]\n",
    "stationary_dataset[\"high_bid_low_ask\"] = dataset[\"bid_high\"] / dataset[\"ask_low\"]\n",
    "stationary_dataset[\"low_bid_high_ask\"] = dataset[\"bid_low\"] / dataset[\"ask_high\"]\n",
    "\n",
    "\n",
    "for column_name in dataset.columns:\n",
    "\n",
    "    # MARKET ORDER DATA\n",
    "\n",
    "    if \"mo\" in column_name:\n",
    "        if \"hh\" in column_name: \n",
    "            stationary_dataset[column_name] = dataset[column_name]\n",
    "        elif \"1\" in column_name:\n",
    "            suffix = column_name.split(\"1\")[1]\n",
    "            print(dataset[f\"mo0{suffix}\"].isna().sum().sum())\n",
    "            print(dataset[f\"mo1{suffix}\"].isna().sum().sum())\n",
    "            stationary_dataset[f\"mo{suffix}\"] = ((\n",
    "                dataset[f\"mo1{suffix}\"] / (dataset[f\"mo0{suffix}\"] + dataset[f\"mo1{suffix}\"]))\n",
    "                .where((dataset[f\"mo1{suffix}\"] > 0) & (dataset[f\"mo0{suffix}\"] > 0), 0))\n",
    "\n",
    "    # WITH QUANTILE DATA\n",
    "\n",
    "    elif column_name.startswith(\"bid\") and column_name.endswith(\"size\"):\n",
    "        quantile = column_name.split('_')[1]\n",
    "        stationary_dataset[f\"quantile_{quantile}_size\"] = ((\n",
    "            dataset[f\"bid_{quantile}_size\"] / (dataset[f\"ask_{quantile}_size\"] + dataset[f\"bid_{quantile}_size\"]))\n",
    "            .where((dataset[f\"ask_{quantile}_size\"] > 0) & (dataset[f\"bid_{quantile}_size\"] > 0), 0))\n",
    "    elif column_name.startswith(\"bid\") and column_name.endswith(\"vwap\"):\n",
    "        quantile = column_name.split('_')[1]\n",
    "        stationary_dataset[f\"quantile_{quantile}_vwap\"] = ((\n",
    "            dataset[f\"bid_{quantile}_vwap\"] / (dataset[f\"ask_{quantile}_vwap\"] + dataset[f\"bid_{quantile}_vwap\"]))\n",
    "            .where((dataset[f\"ask_{quantile}_vwap\"] > 0) & (dataset[f\"bid_{quantile}_vwap\"] > 0), 0))\n",
    "\n",
    "\n",
    "stationary_dataset = stationary_dataset.sort_index(axis=1)\n",
    "\n",
    "\n",
    "# ADD TARGET \n",
    "\n",
    "stationary_dataset[\"target\"] = (\n",
    "    pd.read_parquet(f\"binance/close.parquet\")\n",
    "    .drop(BLOCK_TICKERS, axis=1)\n",
    "    .pct_change(fill_method=None)\n",
    "    .shift(-1)\n",
    "    .ffill()\n",
    "    .stack())\n",
    "\n",
    "\n",
    "# CUT OUTLIARS\n",
    "\n",
    "for column_name in stationary_dataset.columns:\n",
    "    stationary_dataset[column_name] = cut_outliers(stationary_dataset[column_name].values)"
   ]
  },
  {
   "cell_type": "code",
   "execution_count": 6,
   "metadata": {},
   "outputs": [],
   "source": [
    "# SAVE DATASET\n",
    "stationary_dataset.to_parquet(\"stationary_dataset.gzip\", compression='gzip')"
   ]
  },
  {
   "cell_type": "markdown",
   "metadata": {},
   "source": [
    "LSTM NEURAL NETWORK"
   ]
  },
  {
   "cell_type": "code",
   "execution_count": 7,
   "metadata": {},
   "outputs": [],
   "source": [
    "stationary_dataset = pd.read_parquet(\"stationary_dataset.gzip\")\n",
    "idx = pd.IndexSlice\n",
    "\n",
    "params = dict(\n",
    "    input_dim = stationary_dataset.shape[1]-1,\n",
    "    hidden_dim = (stationary_dataset.shape[1]-1) // 4,\n",
    "    output_dim = 1,\n",
    "    batch_size = 64,\n",
    "    learning_rate = 1e-3,\n",
    "    epochs = 3\n",
    ")"
   ]
  },
  {
   "cell_type": "code",
   "execution_count": 5,
   "metadata": {},
   "outputs": [],
   "source": [
    "# FILTER TICKERS\n",
    "\n",
    "def filter_tickers(dataset: pd.DataFrame):\n",
    "\n",
    "    dataset = dataset.ffill(limit=8).dropna(how='all', axis=1)\n",
    "\n",
    "    number_of_nan = dataset.isna().sum(axis=0)\n",
    "    nan_mask = number_of_nan == 0\n",
    "    dataset = dataset.loc[:, nan_mask]\n",
    "\n",
    "    filtered_tickers = pd.Series(dataset.columns)\n",
    "    return filtered_tickers"
   ]
  },
  {
   "cell_type": "code",
   "execution_count": 8,
   "metadata": {},
   "outputs": [],
   "source": [
    "# MODEL DATA STRUCTURE\n",
    "\n",
    "class lstm_dataset(Dataset):\n",
    "    def __init__(self, data):\n",
    "        self.data = torch.tensor(data[:, :-1], dtype=torch.float32)\n",
    "        self.label = torch.tensor(data[:, -1], dtype=torch.float32).unsqueeze_(1)\n",
    "        self.n_samples = data.shape[0] \n",
    "\n",
    "    def __len__(self):\n",
    "        return self.n_samples\n",
    "\n",
    "    def __getitem__(self, idx):\n",
    "        return self.data[idx], self.label[idx]\n",
    "    \n",
    "# LSTM NEURAL NETWORK\n",
    "\n",
    "class LSTM_Model(nn.Module):\n",
    "    def __init__(self, input_dim, hidden_dim, output_dim):\n",
    "        super(LSTM_Model, self).__init__()\n",
    "        self.lstm = nn.LSTM(input_dim, hidden_dim, num_layers=1, batch_first=True)\n",
    "        self.linear = nn.Linear(hidden_dim, output_dim)\n",
    "\n",
    "    def forward(self, x):\n",
    "        out, _ = self.lstm(x)\n",
    "        out = self.linear(out)\n",
    "        return out"
   ]
  },
  {
   "cell_type": "code",
   "execution_count": 9,
   "metadata": {},
   "outputs": [],
   "source": [
    "def train_model(model, criterion, optimizer, train_loader, epochs):\n",
    "    train_losses = []\n",
    "    \n",
    "    for _ in tqdm(range(epochs)):\n",
    "        model.train()\n",
    "        train_loss = 0\n",
    "        \n",
    "        for X, y in train_loader:\n",
    "            optimizer.zero_grad()\n",
    "            y_pred = model(X)\n",
    "            loss = criterion(y_pred, y)\n",
    "            train_loss += loss.item()\n",
    "            \n",
    "            loss.backward()\n",
    "            optimizer.step()\n",
    "\n",
    "        train_loss = train_loss / len(train_loader)\n",
    "        train_losses.append(train_loss)\n",
    "\n",
    "    print(\"Train Loss : {:.8f}\".format(torch.tensor(train_losses).mean()))\n",
    "\n",
    "\n",
    "def test_model(model, criterion, test_loader):\n",
    "    test_losses, predicted_return = [], []\n",
    "    \n",
    "    with torch.no_grad():\n",
    "        test_loss = 0\n",
    "\n",
    "        for X, y in test_loader:\n",
    "            y_pred = model(X)\n",
    "            predicted_return.extend(y_pred.detach().numpy().flatten())\n",
    "            loss = criterion(y_pred, y)\n",
    "            test_loss += loss.item()\n",
    "        test_loss = test_loss / len(test_loader)\n",
    "        test_losses.append(test_loss)\n",
    "    \n",
    "    print(\"Test Loss : {:.8f}\".format(torch.tensor(test_losses).mean()))\n",
    "    return predicted_return\n",
    "    \n",
    "    "
   ]
  },
  {
   "cell_type": "code",
   "execution_count": 12,
   "metadata": {},
   "outputs": [
    {
     "name": "stderr",
     "output_type": "stream",
     "text": [
      "100%|██████████| 3/3 [01:08<00:00, 22.95s/it]\n"
     ]
    },
    {
     "name": "stdout",
     "output_type": "stream",
     "text": [
      "Train Loss : 0.00015098\n",
      "Test Loss : 0.00015633\n"
     ]
    },
    {
     "name": "stderr",
     "output_type": "stream",
     "text": [
      "100%|██████████| 3/3 [01:18<00:00, 26.04s/it]\n"
     ]
    },
    {
     "name": "stdout",
     "output_type": "stream",
     "text": [
      "Train Loss : 0.00015285\n",
      "Test Loss : 0.00007674\n"
     ]
    },
    {
     "name": "stderr",
     "output_type": "stream",
     "text": [
      "100%|██████████| 3/3 [01:28<00:00, 29.36s/it]\n"
     ]
    },
    {
     "name": "stdout",
     "output_type": "stream",
     "text": [
      "Train Loss : 0.00016066\n",
      "Test Loss : 0.00012405\n"
     ]
    },
    {
     "name": "stderr",
     "output_type": "stream",
     "text": [
      "100%|██████████| 3/3 [19:40<00:00, 393.50s/it]\n"
     ]
    },
    {
     "name": "stdout",
     "output_type": "stream",
     "text": [
      "Train Loss : 0.00031406\n",
      "Test Loss : 0.00010736\n"
     ]
    },
    {
     "name": "stderr",
     "output_type": "stream",
     "text": [
      "100%|██████████| 3/3 [01:50<00:00, 36.95s/it]\n"
     ]
    },
    {
     "name": "stdout",
     "output_type": "stream",
     "text": [
      "Train Loss : 0.00011145\n",
      "Test Loss : 0.00020916\n"
     ]
    },
    {
     "name": "stderr",
     "output_type": "stream",
     "text": [
      "100%|██████████| 3/3 [01:55<00:00, 38.60s/it]\n"
     ]
    },
    {
     "name": "stdout",
     "output_type": "stream",
     "text": [
      "Train Loss : 0.00020755\n",
      "Test Loss : 0.00038614\n"
     ]
    },
    {
     "name": "stderr",
     "output_type": "stream",
     "text": [
      "100%|██████████| 3/3 [01:58<00:00, 39.43s/it]\n"
     ]
    },
    {
     "name": "stdout",
     "output_type": "stream",
     "text": [
      "Train Loss : 0.00021232\n",
      "Test Loss : 0.00015005\n"
     ]
    },
    {
     "name": "stderr",
     "output_type": "stream",
     "text": [
      "100%|██████████| 3/3 [02:16<00:00, 45.35s/it]\n"
     ]
    },
    {
     "name": "stdout",
     "output_type": "stream",
     "text": [
      "Train Loss : 0.00035190\n",
      "Test Loss : 0.00014312\n"
     ]
    },
    {
     "name": "stderr",
     "output_type": "stream",
     "text": [
      "100%|██████████| 3/3 [02:39<00:00, 53.08s/it]\n"
     ]
    },
    {
     "name": "stdout",
     "output_type": "stream",
     "text": [
      "Train Loss : 0.00018157\n",
      "Test Loss : 0.00019281\n"
     ]
    },
    {
     "name": "stderr",
     "output_type": "stream",
     "text": [
      "100%|██████████| 3/3 [02:55<00:00, 58.57s/it]\n"
     ]
    },
    {
     "name": "stdout",
     "output_type": "stream",
     "text": [
      "Train Loss : 0.00018859\n",
      "Test Loss : 0.00020554\n"
     ]
    },
    {
     "name": "stderr",
     "output_type": "stream",
     "text": [
      "100%|██████████| 3/3 [03:01<00:00, 60.51s/it]\n"
     ]
    },
    {
     "name": "stdout",
     "output_type": "stream",
     "text": [
      "Train Loss : 0.00022248\n",
      "Test Loss : 0.00012600\n"
     ]
    },
    {
     "name": "stderr",
     "output_type": "stream",
     "text": [
      "100%|██████████| 3/3 [03:16<00:00, 65.43s/it]\n"
     ]
    },
    {
     "name": "stdout",
     "output_type": "stream",
     "text": [
      "Train Loss : 0.00020165\n",
      "Test Loss : 0.00012938\n"
     ]
    },
    {
     "name": "stderr",
     "output_type": "stream",
     "text": [
      "100%|██████████| 3/3 [03:31<00:00, 70.39s/it]\n"
     ]
    },
    {
     "name": "stdout",
     "output_type": "stream",
     "text": [
      "Train Loss : 0.00016065\n",
      "Test Loss : 0.00015757\n"
     ]
    },
    {
     "name": "stderr",
     "output_type": "stream",
     "text": [
      "100%|██████████| 3/3 [03:42<00:00, 74.21s/it]\n"
     ]
    },
    {
     "name": "stdout",
     "output_type": "stream",
     "text": [
      "Train Loss : 0.00015382\n",
      "Test Loss : 0.00010010\n"
     ]
    },
    {
     "name": "stderr",
     "output_type": "stream",
     "text": [
      "100%|██████████| 3/3 [03:51<00:00, 77.04s/it]\n"
     ]
    },
    {
     "name": "stdout",
     "output_type": "stream",
     "text": [
      "Train Loss : 0.00014302\n",
      "Test Loss : 0.00011750\n"
     ]
    },
    {
     "name": "stderr",
     "output_type": "stream",
     "text": [
      "100%|██████████| 3/3 [04:00<00:00, 80.29s/it]\n"
     ]
    },
    {
     "name": "stdout",
     "output_type": "stream",
     "text": [
      "Train Loss : 0.00016321\n",
      "Test Loss : 0.00011979\n"
     ]
    },
    {
     "name": "stderr",
     "output_type": "stream",
     "text": [
      "100%|██████████| 3/3 [04:14<00:00, 84.90s/it]\n"
     ]
    },
    {
     "name": "stdout",
     "output_type": "stream",
     "text": [
      "Train Loss : 0.00012923\n",
      "Test Loss : 0.00010379\n"
     ]
    },
    {
     "name": "stderr",
     "output_type": "stream",
     "text": [
      "100%|██████████| 3/3 [04:23<00:00, 87.94s/it]\n"
     ]
    },
    {
     "name": "stdout",
     "output_type": "stream",
     "text": [
      "Train Loss : 0.00013785\n",
      "Test Loss : 0.00009523\n"
     ]
    },
    {
     "name": "stderr",
     "output_type": "stream",
     "text": [
      "100%|██████████| 3/3 [04:28<00:00, 89.64s/it]\n"
     ]
    },
    {
     "name": "stdout",
     "output_type": "stream",
     "text": [
      "Train Loss : 0.00012745\n",
      "Test Loss : 0.00014585\n"
     ]
    },
    {
     "name": "stderr",
     "output_type": "stream",
     "text": [
      "100%|██████████| 3/3 [04:33<00:00, 91.15s/it]\n"
     ]
    },
    {
     "name": "stdout",
     "output_type": "stream",
     "text": [
      "Train Loss : 0.00012355\n",
      "Test Loss : 0.00007372\n"
     ]
    },
    {
     "name": "stderr",
     "output_type": "stream",
     "text": [
      "100%|██████████| 3/3 [04:37<00:00, 92.59s/it]\n"
     ]
    },
    {
     "name": "stdout",
     "output_type": "stream",
     "text": [
      "Train Loss : 0.00012214\n",
      "Test Loss : 0.00080212\n"
     ]
    },
    {
     "name": "stderr",
     "output_type": "stream",
     "text": [
      "100%|██████████| 3/3 [04:48<00:00, 96.26s/it]\n"
     ]
    },
    {
     "name": "stdout",
     "output_type": "stream",
     "text": [
      "Train Loss : 0.00013231\n",
      "Test Loss : 0.00013523\n"
     ]
    },
    {
     "name": "stderr",
     "output_type": "stream",
     "text": [
      "100%|██████████| 3/3 [04:49<00:00, 96.41s/it]\n"
     ]
    },
    {
     "name": "stdout",
     "output_type": "stream",
     "text": [
      "Train Loss : 0.00014533\n",
      "Test Loss : 0.00014601\n"
     ]
    },
    {
     "name": "stderr",
     "output_type": "stream",
     "text": [
      "100%|██████████| 3/3 [04:54<00:00, 98.22s/it]\n"
     ]
    },
    {
     "name": "stdout",
     "output_type": "stream",
     "text": [
      "Train Loss : 0.00017568\n",
      "Test Loss : 0.00007342\n"
     ]
    },
    {
     "name": "stderr",
     "output_type": "stream",
     "text": [
      "100%|██████████| 3/3 [04:55<00:00, 98.42s/it]\n"
     ]
    },
    {
     "name": "stdout",
     "output_type": "stream",
     "text": [
      "Train Loss : 0.00011247\n",
      "Test Loss : 0.00007769\n"
     ]
    },
    {
     "name": "stderr",
     "output_type": "stream",
     "text": [
      "100%|██████████| 3/3 [05:08<00:00, 102.90s/it]\n"
     ]
    },
    {
     "name": "stdout",
     "output_type": "stream",
     "text": [
      "Train Loss : 0.00008882\n",
      "Test Loss : 0.00005644\n"
     ]
    },
    {
     "name": "stderr",
     "output_type": "stream",
     "text": [
      "100%|██████████| 3/3 [05:15<00:00, 105.22s/it]\n"
     ]
    },
    {
     "name": "stdout",
     "output_type": "stream",
     "text": [
      "Train Loss : 0.00006591\n",
      "Test Loss : 0.00010694\n"
     ]
    },
    {
     "name": "stderr",
     "output_type": "stream",
     "text": [
      "100%|██████████| 3/3 [05:01<00:00, 100.60s/it]\n"
     ]
    },
    {
     "name": "stdout",
     "output_type": "stream",
     "text": [
      "Train Loss : 0.00009170\n",
      "Test Loss : 0.00003976\n"
     ]
    },
    {
     "name": "stderr",
     "output_type": "stream",
     "text": [
      "  0%|          | 0/3 [01:08<?, ?it/s]\n"
     ]
    },
    {
     "ename": "KeyboardInterrupt",
     "evalue": "",
     "output_type": "error",
     "traceback": [
      "\u001b[0;31m---------------------------------------------------------------------------\u001b[0m",
      "\u001b[0;31mKeyboardInterrupt\u001b[0m                         Traceback (most recent call last)",
      "Cell \u001b[0;32mIn[12], line 43\u001b[0m\n\u001b[1;32m     40\u001b[0m train_loader \u001b[38;5;241m=\u001b[39m DataLoader(train_dataset, batch_size\u001b[38;5;241m=\u001b[39mparams[\u001b[38;5;124m'\u001b[39m\u001b[38;5;124mbatch_size\u001b[39m\u001b[38;5;124m'\u001b[39m])\n\u001b[1;32m     41\u001b[0m test_loader \u001b[38;5;241m=\u001b[39m DataLoader(test_dataset, batch_size\u001b[38;5;241m=\u001b[39mparams[\u001b[38;5;124m'\u001b[39m\u001b[38;5;124mbatch_size\u001b[39m\u001b[38;5;124m'\u001b[39m])\n\u001b[0;32m---> 43\u001b[0m \u001b[43mtrain_model\u001b[49m\u001b[43m(\u001b[49m\u001b[43mlstm_model\u001b[49m\u001b[43m,\u001b[49m\u001b[43m \u001b[49m\u001b[43mcriterion\u001b[49m\u001b[43m,\u001b[49m\u001b[43m \u001b[49m\u001b[43moptimizer\u001b[49m\u001b[43m,\u001b[49m\u001b[43m \u001b[49m\u001b[43mtrain_loader\u001b[49m\u001b[43m,\u001b[49m\u001b[43m \u001b[49m\u001b[43mparams\u001b[49m\u001b[43m[\u001b[49m\u001b[38;5;124;43m'\u001b[39;49m\u001b[38;5;124;43mepochs\u001b[39;49m\u001b[38;5;124;43m'\u001b[39;49m\u001b[43m]\u001b[49m\u001b[43m)\u001b[49m\n\u001b[1;32m     44\u001b[0m predicted_return \u001b[38;5;241m=\u001b[39m test_model(lstm_model, criterion, test_loader)\n\u001b[1;32m     45\u001b[0m predicted_returns\u001b[38;5;241m.\u001b[39mappend(pd\u001b[38;5;241m.\u001b[39mSeries(np\u001b[38;5;241m.\u001b[39marray(predicted_return)\u001b[38;5;241m.\u001b[39mflatten(), index\u001b[38;5;241m=\u001b[39mstationary_dataset[train_test_split : train_test_split \u001b[38;5;241m+\u001b[39m month_step \u001b[38;5;241m-\u001b[39m correction]\u001b[38;5;241m.\u001b[39mindex))\n",
      "Cell \u001b[0;32mIn[9], line 12\u001b[0m, in \u001b[0;36mtrain_model\u001b[0;34m(model, criterion, optimizer, train_loader, epochs)\u001b[0m\n\u001b[1;32m     10\u001b[0m y_pred \u001b[38;5;241m=\u001b[39m model(X)\n\u001b[1;32m     11\u001b[0m loss \u001b[38;5;241m=\u001b[39m criterion(y_pred, y)\n\u001b[0;32m---> 12\u001b[0m train_loss \u001b[38;5;241m+\u001b[39m\u001b[38;5;241m=\u001b[39m \u001b[43mloss\u001b[49m\u001b[38;5;241;43m.\u001b[39;49m\u001b[43mitem\u001b[49m\u001b[43m(\u001b[49m\u001b[43m)\u001b[49m\n\u001b[1;32m     14\u001b[0m loss\u001b[38;5;241m.\u001b[39mbackward()\n\u001b[1;32m     15\u001b[0m optimizer\u001b[38;5;241m.\u001b[39mstep()\n",
      "\u001b[0;31mKeyboardInterrupt\u001b[0m: "
     ]
    }
   ],
   "source": [
    "# TRAINING & PREDICTION\n",
    "\n",
    "date_current = pd.Timestamp(\"2020-06\")\n",
    "date_end = pd.Timestamp(\"2022-12\")\n",
    "correction =  pd.Timedelta(30, unit=\"m\")\n",
    "month_step = pd.DateOffset(months=1)\n",
    "\n",
    "predicted_returns = []\n",
    "\n",
    "while date_current <= date_end:\n",
    "\n",
    "    lstm_model = LSTM_Model(params['input_dim'], params['hidden_dim'], params['output_dim'])\n",
    "    criterion = nn.MSELoss() \n",
    "    optimizer = torch.optim.Adam(lstm_model.parameters(), lr=params['learning_rate'])\n",
    "    \n",
    "    train_test_split = date_current + month_step * 3\n",
    "    \n",
    "    train_dataset = lstm_dataset(stationary_dataset.loc[idx[date_current : train_test_split - correction, :], :].values)\n",
    "    test_dataset = lstm_dataset(stationary_dataset.loc[idx[train_test_split : train_test_split + month_step - correction, :], :].values)\n",
    "\n",
    "    train_loader = DataLoader(train_dataset, batch_size=params['batch_size'])\n",
    "    test_loader = DataLoader(test_dataset, batch_size=params['batch_size'])\n",
    "\n",
    "    train_model(lstm_model, criterion, optimizer, train_loader, params['epochs'])\n",
    "    predicted_return = test_model(lstm_model, criterion, test_loader)\n",
    "    predicted_returns.append(pd.Series(np.array(predicted_return).flatten(), index=stationary_dataset[train_test_split : train_test_split + month_step - correction].index))\n",
    "\n",
    "    date_current = date_current + month_step\n",
    "    \n"
   ]
  },
  {
   "cell_type": "code",
   "execution_count": 19,
   "metadata": {},
   "outputs": [
    {
     "data": {
      "text/html": [
       "<div>\n",
       "<style scoped>\n",
       "    .dataframe tbody tr th:only-of-type {\n",
       "        vertical-align: middle;\n",
       "    }\n",
       "\n",
       "    .dataframe tbody tr th {\n",
       "        vertical-align: top;\n",
       "    }\n",
       "\n",
       "    .dataframe thead th {\n",
       "        text-align: right;\n",
       "    }\n",
       "</style>\n",
       "<table border=\"1\" class=\"dataframe\">\n",
       "  <thead>\n",
       "    <tr style=\"text-align: right;\">\n",
       "      <th>level_1</th>\n",
       "      <th>1INCH-USDT</th>\n",
       "      <th>1INCHDOWN-USDT</th>\n",
       "      <th>1INCHUP-USDT</th>\n",
       "      <th>AAVE-USDT</th>\n",
       "      <th>AAVEUP-USDT</th>\n",
       "      <th>ACA-USDT</th>\n",
       "      <th>ACH-USDT</th>\n",
       "      <th>ACM-USDT</th>\n",
       "      <th>ADA-USDT</th>\n",
       "      <th>ADADOWN-USDT</th>\n",
       "      <th>...</th>\n",
       "      <th>XVS-USDT</th>\n",
       "      <th>XZC-USDT</th>\n",
       "      <th>YFI-USDT</th>\n",
       "      <th>YFII-USDT</th>\n",
       "      <th>YFIUP-USDT</th>\n",
       "      <th>YGG-USDT</th>\n",
       "      <th>ZEC-USDT</th>\n",
       "      <th>ZEN-USDT</th>\n",
       "      <th>ZIL-USDT</th>\n",
       "      <th>ZRX-USDT</th>\n",
       "    </tr>\n",
       "    <tr>\n",
       "      <th>level_0</th>\n",
       "      <th></th>\n",
       "      <th></th>\n",
       "      <th></th>\n",
       "      <th></th>\n",
       "      <th></th>\n",
       "      <th></th>\n",
       "      <th></th>\n",
       "      <th></th>\n",
       "      <th></th>\n",
       "      <th></th>\n",
       "      <th></th>\n",
       "      <th></th>\n",
       "      <th></th>\n",
       "      <th></th>\n",
       "      <th></th>\n",
       "      <th></th>\n",
       "      <th></th>\n",
       "      <th></th>\n",
       "      <th></th>\n",
       "      <th></th>\n",
       "      <th></th>\n",
       "    </tr>\n",
       "  </thead>\n",
       "  <tbody>\n",
       "    <tr>\n",
       "      <th>2020-09-01 00:00:00</th>\n",
       "      <td>NaN</td>\n",
       "      <td>NaN</td>\n",
       "      <td>NaN</td>\n",
       "      <td>NaN</td>\n",
       "      <td>NaN</td>\n",
       "      <td>NaN</td>\n",
       "      <td>NaN</td>\n",
       "      <td>NaN</td>\n",
       "      <td>-0.001059</td>\n",
       "      <td>NaN</td>\n",
       "      <td>...</td>\n",
       "      <td>NaN</td>\n",
       "      <td>-0.001155</td>\n",
       "      <td>-0.000942</td>\n",
       "      <td>NaN</td>\n",
       "      <td>NaN</td>\n",
       "      <td>NaN</td>\n",
       "      <td>-0.001049</td>\n",
       "      <td>NaN</td>\n",
       "      <td>-0.000663</td>\n",
       "      <td>-0.000529</td>\n",
       "    </tr>\n",
       "    <tr>\n",
       "      <th>2020-09-01 00:30:00</th>\n",
       "      <td>NaN</td>\n",
       "      <td>NaN</td>\n",
       "      <td>NaN</td>\n",
       "      <td>NaN</td>\n",
       "      <td>NaN</td>\n",
       "      <td>NaN</td>\n",
       "      <td>NaN</td>\n",
       "      <td>NaN</td>\n",
       "      <td>-0.000976</td>\n",
       "      <td>NaN</td>\n",
       "      <td>...</td>\n",
       "      <td>NaN</td>\n",
       "      <td>-0.000400</td>\n",
       "      <td>-0.001247</td>\n",
       "      <td>NaN</td>\n",
       "      <td>NaN</td>\n",
       "      <td>NaN</td>\n",
       "      <td>-0.000875</td>\n",
       "      <td>NaN</td>\n",
       "      <td>-0.000645</td>\n",
       "      <td>-0.001172</td>\n",
       "    </tr>\n",
       "    <tr>\n",
       "      <th>2020-09-01 01:00:00</th>\n",
       "      <td>NaN</td>\n",
       "      <td>NaN</td>\n",
       "      <td>NaN</td>\n",
       "      <td>NaN</td>\n",
       "      <td>NaN</td>\n",
       "      <td>NaN</td>\n",
       "      <td>NaN</td>\n",
       "      <td>NaN</td>\n",
       "      <td>-0.000429</td>\n",
       "      <td>NaN</td>\n",
       "      <td>...</td>\n",
       "      <td>NaN</td>\n",
       "      <td>-0.000443</td>\n",
       "      <td>-0.000477</td>\n",
       "      <td>NaN</td>\n",
       "      <td>NaN</td>\n",
       "      <td>NaN</td>\n",
       "      <td>-0.000430</td>\n",
       "      <td>NaN</td>\n",
       "      <td>-0.000540</td>\n",
       "      <td>-0.001051</td>\n",
       "    </tr>\n",
       "    <tr>\n",
       "      <th>2020-09-01 01:30:00</th>\n",
       "      <td>NaN</td>\n",
       "      <td>NaN</td>\n",
       "      <td>NaN</td>\n",
       "      <td>NaN</td>\n",
       "      <td>NaN</td>\n",
       "      <td>NaN</td>\n",
       "      <td>NaN</td>\n",
       "      <td>NaN</td>\n",
       "      <td>-0.000833</td>\n",
       "      <td>NaN</td>\n",
       "      <td>...</td>\n",
       "      <td>NaN</td>\n",
       "      <td>-0.000836</td>\n",
       "      <td>-0.000507</td>\n",
       "      <td>NaN</td>\n",
       "      <td>NaN</td>\n",
       "      <td>NaN</td>\n",
       "      <td>-0.000831</td>\n",
       "      <td>NaN</td>\n",
       "      <td>-0.000718</td>\n",
       "      <td>-0.001049</td>\n",
       "    </tr>\n",
       "    <tr>\n",
       "      <th>2020-09-01 02:00:00</th>\n",
       "      <td>NaN</td>\n",
       "      <td>NaN</td>\n",
       "      <td>NaN</td>\n",
       "      <td>NaN</td>\n",
       "      <td>NaN</td>\n",
       "      <td>NaN</td>\n",
       "      <td>NaN</td>\n",
       "      <td>NaN</td>\n",
       "      <td>-0.000943</td>\n",
       "      <td>NaN</td>\n",
       "      <td>...</td>\n",
       "      <td>NaN</td>\n",
       "      <td>-0.000607</td>\n",
       "      <td>-0.000506</td>\n",
       "      <td>NaN</td>\n",
       "      <td>NaN</td>\n",
       "      <td>NaN</td>\n",
       "      <td>-0.001327</td>\n",
       "      <td>NaN</td>\n",
       "      <td>-0.000603</td>\n",
       "      <td>-0.001140</td>\n",
       "    </tr>\n",
       "    <tr>\n",
       "      <th>...</th>\n",
       "      <td>...</td>\n",
       "      <td>...</td>\n",
       "      <td>...</td>\n",
       "      <td>...</td>\n",
       "      <td>...</td>\n",
       "      <td>...</td>\n",
       "      <td>...</td>\n",
       "      <td>...</td>\n",
       "      <td>...</td>\n",
       "      <td>...</td>\n",
       "      <td>...</td>\n",
       "      <td>...</td>\n",
       "      <td>...</td>\n",
       "      <td>...</td>\n",
       "      <td>...</td>\n",
       "      <td>...</td>\n",
       "      <td>...</td>\n",
       "      <td>...</td>\n",
       "      <td>...</td>\n",
       "      <td>...</td>\n",
       "      <td>...</td>\n",
       "    </tr>\n",
       "    <tr>\n",
       "      <th>2022-12-31 21:30:00</th>\n",
       "      <td>0.000254</td>\n",
       "      <td>0.010873</td>\n",
       "      <td>-0.000875</td>\n",
       "      <td>0.000244</td>\n",
       "      <td>0.023391</td>\n",
       "      <td>-0.001503</td>\n",
       "      <td>-0.000487</td>\n",
       "      <td>-0.000143</td>\n",
       "      <td>-0.000115</td>\n",
       "      <td>0.000361</td>\n",
       "      <td>...</td>\n",
       "      <td>-0.000633</td>\n",
       "      <td>0.015119</td>\n",
       "      <td>-0.000611</td>\n",
       "      <td>0.000022</td>\n",
       "      <td>0.000020</td>\n",
       "      <td>0.000240</td>\n",
       "      <td>-0.000221</td>\n",
       "      <td>0.002109</td>\n",
       "      <td>0.000443</td>\n",
       "      <td>0.000056</td>\n",
       "    </tr>\n",
       "    <tr>\n",
       "      <th>2022-12-31 22:00:00</th>\n",
       "      <td>0.000487</td>\n",
       "      <td>0.011254</td>\n",
       "      <td>-0.000541</td>\n",
       "      <td>-0.000101</td>\n",
       "      <td>0.023811</td>\n",
       "      <td>0.000577</td>\n",
       "      <td>-0.001418</td>\n",
       "      <td>-0.001146</td>\n",
       "      <td>-0.001385</td>\n",
       "      <td>-0.000237</td>\n",
       "      <td>...</td>\n",
       "      <td>0.000630</td>\n",
       "      <td>0.015631</td>\n",
       "      <td>0.000478</td>\n",
       "      <td>0.000540</td>\n",
       "      <td>0.000380</td>\n",
       "      <td>0.000414</td>\n",
       "      <td>0.000340</td>\n",
       "      <td>0.000589</td>\n",
       "      <td>0.000106</td>\n",
       "      <td>0.000434</td>\n",
       "    </tr>\n",
       "    <tr>\n",
       "      <th>2022-12-31 22:30:00</th>\n",
       "      <td>0.000625</td>\n",
       "      <td>0.011446</td>\n",
       "      <td>-0.000622</td>\n",
       "      <td>0.000129</td>\n",
       "      <td>0.023589</td>\n",
       "      <td>0.000077</td>\n",
       "      <td>0.000333</td>\n",
       "      <td>-0.001536</td>\n",
       "      <td>-0.000163</td>\n",
       "      <td>-0.000712</td>\n",
       "      <td>...</td>\n",
       "      <td>-0.000268</td>\n",
       "      <td>0.014810</td>\n",
       "      <td>0.001378</td>\n",
       "      <td>0.001506</td>\n",
       "      <td>0.000145</td>\n",
       "      <td>0.000161</td>\n",
       "      <td>-0.000067</td>\n",
       "      <td>0.000251</td>\n",
       "      <td>0.000301</td>\n",
       "      <td>0.000195</td>\n",
       "    </tr>\n",
       "    <tr>\n",
       "      <th>2022-12-31 23:00:00</th>\n",
       "      <td>-0.000581</td>\n",
       "      <td>0.010965</td>\n",
       "      <td>-0.000827</td>\n",
       "      <td>0.000187</td>\n",
       "      <td>0.023657</td>\n",
       "      <td>-0.000092</td>\n",
       "      <td>-0.001731</td>\n",
       "      <td>-0.000207</td>\n",
       "      <td>-0.002528</td>\n",
       "      <td>-0.000377</td>\n",
       "      <td>...</td>\n",
       "      <td>0.000424</td>\n",
       "      <td>0.015313</td>\n",
       "      <td>-0.000194</td>\n",
       "      <td>0.000348</td>\n",
       "      <td>0.000175</td>\n",
       "      <td>0.000421</td>\n",
       "      <td>0.003740</td>\n",
       "      <td>-0.000623</td>\n",
       "      <td>-0.000090</td>\n",
       "      <td>0.000172</td>\n",
       "    </tr>\n",
       "    <tr>\n",
       "      <th>2022-12-31 23:30:00</th>\n",
       "      <td>-0.000343</td>\n",
       "      <td>0.010670</td>\n",
       "      <td>-0.001038</td>\n",
       "      <td>-0.000326</td>\n",
       "      <td>0.023044</td>\n",
       "      <td>-0.000393</td>\n",
       "      <td>-0.001987</td>\n",
       "      <td>-0.000487</td>\n",
       "      <td>-0.004634</td>\n",
       "      <td>-0.001052</td>\n",
       "      <td>...</td>\n",
       "      <td>-0.001379</td>\n",
       "      <td>0.014965</td>\n",
       "      <td>-0.000040</td>\n",
       "      <td>0.000116</td>\n",
       "      <td>0.000243</td>\n",
       "      <td>0.000310</td>\n",
       "      <td>0.000878</td>\n",
       "      <td>-0.001025</td>\n",
       "      <td>-0.000402</td>\n",
       "      <td>-0.000205</td>\n",
       "    </tr>\n",
       "  </tbody>\n",
       "</table>\n",
       "<p>40896 rows × 379 columns</p>\n",
       "</div>"
      ],
      "text/plain": [
       "level_1              1INCH-USDT  1INCHDOWN-USDT  1INCHUP-USDT  AAVE-USDT  \\\n",
       "level_0                                                                    \n",
       "2020-09-01 00:00:00         NaN             NaN           NaN        NaN   \n",
       "2020-09-01 00:30:00         NaN             NaN           NaN        NaN   \n",
       "2020-09-01 01:00:00         NaN             NaN           NaN        NaN   \n",
       "2020-09-01 01:30:00         NaN             NaN           NaN        NaN   \n",
       "2020-09-01 02:00:00         NaN             NaN           NaN        NaN   \n",
       "...                         ...             ...           ...        ...   \n",
       "2022-12-31 21:30:00    0.000254        0.010873     -0.000875   0.000244   \n",
       "2022-12-31 22:00:00    0.000487        0.011254     -0.000541  -0.000101   \n",
       "2022-12-31 22:30:00    0.000625        0.011446     -0.000622   0.000129   \n",
       "2022-12-31 23:00:00   -0.000581        0.010965     -0.000827   0.000187   \n",
       "2022-12-31 23:30:00   -0.000343        0.010670     -0.001038  -0.000326   \n",
       "\n",
       "level_1              AAVEUP-USDT  ACA-USDT  ACH-USDT  ACM-USDT  ADA-USDT  \\\n",
       "level_0                                                                    \n",
       "2020-09-01 00:00:00          NaN       NaN       NaN       NaN -0.001059   \n",
       "2020-09-01 00:30:00          NaN       NaN       NaN       NaN -0.000976   \n",
       "2020-09-01 01:00:00          NaN       NaN       NaN       NaN -0.000429   \n",
       "2020-09-01 01:30:00          NaN       NaN       NaN       NaN -0.000833   \n",
       "2020-09-01 02:00:00          NaN       NaN       NaN       NaN -0.000943   \n",
       "...                          ...       ...       ...       ...       ...   \n",
       "2022-12-31 21:30:00     0.023391 -0.001503 -0.000487 -0.000143 -0.000115   \n",
       "2022-12-31 22:00:00     0.023811  0.000577 -0.001418 -0.001146 -0.001385   \n",
       "2022-12-31 22:30:00     0.023589  0.000077  0.000333 -0.001536 -0.000163   \n",
       "2022-12-31 23:00:00     0.023657 -0.000092 -0.001731 -0.000207 -0.002528   \n",
       "2022-12-31 23:30:00     0.023044 -0.000393 -0.001987 -0.000487 -0.004634   \n",
       "\n",
       "level_1              ADADOWN-USDT  ...  XVS-USDT  XZC-USDT  YFI-USDT  \\\n",
       "level_0                            ...                                 \n",
       "2020-09-01 00:00:00           NaN  ...       NaN -0.001155 -0.000942   \n",
       "2020-09-01 00:30:00           NaN  ...       NaN -0.000400 -0.001247   \n",
       "2020-09-01 01:00:00           NaN  ...       NaN -0.000443 -0.000477   \n",
       "2020-09-01 01:30:00           NaN  ...       NaN -0.000836 -0.000507   \n",
       "2020-09-01 02:00:00           NaN  ...       NaN -0.000607 -0.000506   \n",
       "...                           ...  ...       ...       ...       ...   \n",
       "2022-12-31 21:30:00      0.000361  ... -0.000633  0.015119 -0.000611   \n",
       "2022-12-31 22:00:00     -0.000237  ...  0.000630  0.015631  0.000478   \n",
       "2022-12-31 22:30:00     -0.000712  ... -0.000268  0.014810  0.001378   \n",
       "2022-12-31 23:00:00     -0.000377  ...  0.000424  0.015313 -0.000194   \n",
       "2022-12-31 23:30:00     -0.001052  ... -0.001379  0.014965 -0.000040   \n",
       "\n",
       "level_1              YFII-USDT  YFIUP-USDT  YGG-USDT  ZEC-USDT  ZEN-USDT  \\\n",
       "level_0                                                                    \n",
       "2020-09-01 00:00:00        NaN         NaN       NaN -0.001049       NaN   \n",
       "2020-09-01 00:30:00        NaN         NaN       NaN -0.000875       NaN   \n",
       "2020-09-01 01:00:00        NaN         NaN       NaN -0.000430       NaN   \n",
       "2020-09-01 01:30:00        NaN         NaN       NaN -0.000831       NaN   \n",
       "2020-09-01 02:00:00        NaN         NaN       NaN -0.001327       NaN   \n",
       "...                        ...         ...       ...       ...       ...   \n",
       "2022-12-31 21:30:00   0.000022    0.000020  0.000240 -0.000221  0.002109   \n",
       "2022-12-31 22:00:00   0.000540    0.000380  0.000414  0.000340  0.000589   \n",
       "2022-12-31 22:30:00   0.001506    0.000145  0.000161 -0.000067  0.000251   \n",
       "2022-12-31 23:00:00   0.000348    0.000175  0.000421  0.003740 -0.000623   \n",
       "2022-12-31 23:30:00   0.000116    0.000243  0.000310  0.000878 -0.001025   \n",
       "\n",
       "level_1              ZIL-USDT  ZRX-USDT  \n",
       "level_0                                  \n",
       "2020-09-01 00:00:00 -0.000663 -0.000529  \n",
       "2020-09-01 00:30:00 -0.000645 -0.001172  \n",
       "2020-09-01 01:00:00 -0.000540 -0.001051  \n",
       "2020-09-01 01:30:00 -0.000718 -0.001049  \n",
       "2020-09-01 02:00:00 -0.000603 -0.001140  \n",
       "...                       ...       ...  \n",
       "2022-12-31 21:30:00  0.000443  0.000056  \n",
       "2022-12-31 22:00:00  0.000106  0.000434  \n",
       "2022-12-31 22:30:00  0.000301  0.000195  \n",
       "2022-12-31 23:00:00 -0.000090  0.000172  \n",
       "2022-12-31 23:30:00 -0.000402 -0.000205  \n",
       "\n",
       "[40896 rows x 379 columns]"
      ]
     },
     "execution_count": 19,
     "metadata": {},
     "output_type": "execute_result"
    }
   ],
   "source": [
    "LSTM_WEIGHTS = pd.concat(predicted_returns).reset_index().pivot(index=\"level_0\", columns=\"level_1\", values = 0)\n",
    "LSTM_WEIGHTS.to_parquet(\"raw_alpha_weights/LSTM_WEIGHTS.gzip\", compression='gzip')\n",
    "LSTM_WEIGHTS"
   ]
  },
  {
   "cell_type": "code",
   "execution_count": 10,
   "metadata": {},
   "outputs": [
    {
     "name": "stdout",
     "output_type": "stream",
     "text": [
      "Стратегия LSTM\n",
      "\n",
      "Annualized Sharpe Ratio = 9.05\n",
      "Daily tvr = 500.32%\n",
      "Annual return = 161.27%\n",
      "Max Drawdown = -17.17%\n",
      "Margin = 0.0 bp\n",
      "\n"
     ]
    },
    {
     "data": {
      "image/png": "[encoded data removed]",
      "text/plain": [
       "<Figure size 900x400 with 1 Axes>"
      ]
     },
     "metadata": {},
     "output_type": "display_data"
    }
   ],
   "source": [
    "LSTM_WEIGHTS = pd.read_parquet(\"raw_alpha_weights/LSTM_WEIGHTS.gzip\")\n",
    "close_df = pd.read_parquet(\"binance/close.parquet\")[\"2020-09-01\":].drop(BLOCK_TICKERS, axis=1)\n",
    "vwap_df = pd.read_parquet(\"binance/vwap.parquet\")[\"2020-09-01\":].drop(BLOCK_TICKERS, axis=1)\n",
    "\n",
    "LSTM_ALPHA = Alpha(LSTM_WEIGHTS, close_df, vwap_df)\n",
    "LSTM_ALPHA.truncate_and_normalize(0.05)\n",
    "LSTM_ALPHA.decay(6)\n",
    "\n",
    "plt.figure(figsize=(9, 4))\n",
    "LSTM_ALPHA.backtest(display=True, label=\"Стратегия LSTM\")\n",
    "plt.legend()\n",
    "plt.grid()\n",
    "plt.show()"
   ]
  },
  {
   "cell_type": "code",
   "execution_count": null,
   "metadata": {},
   "outputs": [],
   "source": []
  }
 ],
 "metadata": {
  "kernelspec": {
   "display_name": "srw_venv",
   "language": "python",
   "name": "python3"
  },
  "language_info": {
   "codemirror_mode": {
    "name": "ipython",
    "version": 3
   },
   "file_extension": ".py",
   "mimetype": "text/x-python",
   "name": "python",
   "nbconvert_exporter": "python",
   "pygments_lexer": "ipython3",
   "version": "3.11.5"
  }
 },
 "nbformat": 4,
 "nbformat_minor": 2
}
